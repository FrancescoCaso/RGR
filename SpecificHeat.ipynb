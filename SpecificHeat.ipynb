{
 "cells": [
  {
   "cell_type": "code",
   "execution_count": null,
   "metadata": {},
   "outputs": [],
   "source": [
    "from LaplacianRenormalizationGroup4 import *\n",
    "import torch\n",
    "import numpy as np\n",
    "import matplotlib.pyplot as plt\n",
    "import numpy as np"
   ]
  },
  {
   "cell_type": "code",
   "execution_count": null,
   "metadata": {},
   "outputs": [],
   "source": [
    "datasets = ['cora', 'citeseer', 'pubmed', 'Computers', 'Photo']\n",
    "\n",
    "for d in datasets:\n",
    "    l = 1\n",
    "    for i in range(l):\n",
    "        identify_extrema_and_inflections(f\"RGNN_data4/{d}/{d}_data_{i}_C.txt\", f\"RGNN_data4/{d}/{d}_data_{i}_tau_type.txt\")"
   ]
  }
 ],
 "metadata": {
  "language_info": {
   "name": "python"
  }
 },
 "nbformat": 4,
 "nbformat_minor": 2
}
